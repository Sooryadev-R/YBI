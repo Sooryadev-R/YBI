{
 "cells": [
  {
   "cell_type": "code",
   "execution_count": 2,
   "metadata": {},
   "outputs": [
    {
     "name": "stdout",
     "output_type": "stream",
     "text": [
      "Dataset Preview:\n",
      "                                              Review Sentiment\n",
      "0  Absolutely wonderful - silky and sexy and comf...  positive\n",
      "1  I had such high hopes for this dress and reall...  negative\n",
      "2  This dress is pretty but the material feels cheap  negative\n",
      "3     Love this dress! It's perfect for a summer day  positive\n",
      "4          The color is beautiful but the fit is off  negative\n",
      "\n",
      "Accuracy of the Model:\n",
      "1.0\n",
      "\n",
      "Classification Report:\n",
      "              precision    recall  f1-score   support\n",
      "\n",
      "    negative       1.00      1.00      1.00         1\n",
      "\n",
      "    accuracy                           1.00         1\n",
      "   macro avg       1.00      1.00      1.00         1\n",
      "weighted avg       1.00      1.00      1.00         1\n",
      "\n",
      "\n",
      "Predictions for New Reviews:\n",
      "['positive' 'negative']\n"
     ]
    }
   ],
   "source": [
    "import pandas as pd\n",
    "from sklearn.model_selection import train_test_split\n",
    "from sklearn.feature_extraction.text import CountVectorizer\n",
    "from sklearn.naive_bayes import MultinomialNB\n",
    "from sklearn.metrics import accuracy_score, classification_report\n",
    "\n",
    "# Step 1: Load the dataset\n",
    "# Assume 'women_clothing_reviews.csv' contains columns 'Review' and 'Sentiment'\n",
    "data = pd.read_csv('women_clothing_reviews.csv')\n",
    "\n",
    "# Display the first few rows of the dataset\n",
    "print(\"Dataset Preview:\")\n",
    "print(data.head())\n",
    "\n",
    "# Step 2: Split the data into features and target labels\n",
    "X = data['Review']\n",
    "y = data['Sentiment']\n",
    "\n",
    "# Step 3: Split the data into training and testing sets\n",
    "X_train, X_test, y_train, y_test = train_test_split(X, y, test_size=0.2, random_state=42)\n",
    "\n",
    "# Step 4: Convert text to a matrix of token counts\n",
    "vectorizer = CountVectorizer()\n",
    "X_train_counts = vectorizer.fit_transform(X_train)\n",
    "X_test_counts = vectorizer.transform(X_test)\n",
    "\n",
    "# Step 5: Train the Naive Bayes model\n",
    "model = MultinomialNB()\n",
    "model.fit(X_train_counts, y_train)\n",
    "\n",
    "# Step 6: Make predictions on the test set\n",
    "y_pred = model.predict(X_test_counts)\n",
    "\n",
    "# Step 7: Display accuracy\n",
    "print(\"\\nAccuracy of the Model:\")\n",
    "print(accuracy_score(y_test, y_pred))\n",
    "\n",
    "# Step 8: Display detailed classification report\n",
    "print(\"\\nClassification Report:\")\n",
    "print(classification_report(y_test, y_pred))\n",
    "\n",
    "# Step 9: Test with new data (Optional)\n",
    "new_reviews = [\"This dress is fantastic! I love it.\", \"The material is terrible and it doesn't fit well.\"]\n",
    "new_reviews_counts = vectorizer.transform(new_reviews)\n",
    "predictions = model.predict(new_reviews_counts)\n",
    "\n",
    "print(\"\\nPredictions for New Reviews:\")\n",
    "print(predictions)\n"
   ]
  }
 ],
 "metadata": {
  "kernelspec": {
   "display_name": "Python 3",
   "language": "python",
   "name": "python3"
  },
  "language_info": {
   "codemirror_mode": {
    "name": "ipython",
    "version": 3
   },
   "file_extension": ".py",
   "mimetype": "text/x-python",
   "name": "python",
   "nbconvert_exporter": "python",
   "pygments_lexer": "ipython3",
   "version": "3.12.2"
  }
 },
 "nbformat": 4,
 "nbformat_minor": 2
}
